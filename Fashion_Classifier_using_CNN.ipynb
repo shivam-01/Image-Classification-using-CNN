{
  "nbformat": 4,
  "nbformat_minor": 0,
  "metadata": {
    "colab": {
      "name": "Fashion Classifier using CNN.ipynb",
      "provenance": [],
      "collapsed_sections": [],
      "authorship_tag": "ABX9TyPIpw72C1r5gWXmDWjn6ExN",
      "include_colab_link": true
    },
    "kernelspec": {
      "name": "python3",
      "display_name": "Python 3"
    },
    "accelerator": "GPU"
  },
  "cells": [
    {
      "cell_type": "markdown",
      "metadata": {
        "id": "view-in-github",
        "colab_type": "text"
      },
      "source": [
        "<a href=\"https://colab.research.google.com/github/shivam-01/Image-Classification-using-CNN/blob/master/Fashion_Classifier_using_CNN.ipynb\" target=\"_parent\"><img src=\"https://colab.research.google.com/assets/colab-badge.svg\" alt=\"Open In Colab\"/></a>"
      ]
    },
    {
      "cell_type": "markdown",
      "metadata": {
        "id": "UnUr4M9MHn6k"
      },
      "source": [
        "# Fashion Classifier using CNN\n",
        "\n"
      ]
    },
    {
      "cell_type": "code",
      "metadata": {
        "id": "7ofHpLAn7P67",
        "colab": {
          "base_uri": "https://localhost:8080/"
        },
        "outputId": "b622a205-d563-464e-fe25-5b35702f9b7d"
      },
      "source": [
        "import numpy as np\n",
        "import matplotlib.pyplot as plt\n",
        "import tensorflow as tf\n",
        "print(tf.__version__)"
      ],
      "execution_count": 1,
      "outputs": [
        {
          "output_type": "stream",
          "name": "stdout",
          "text": [
            "2.6.0\n"
          ]
        }
      ]
    },
    {
      "cell_type": "code",
      "metadata": {
        "id": "AxLBbBBg8JVj",
        "colab": {
          "base_uri": "https://localhost:8080/"
        },
        "outputId": "ca8e50cf-9276-4efa-d0d8-4c757cbf96f5"
      },
      "source": [
        "# Load the data\n",
        "mnist = tf.keras.datasets.fashion_mnist\n",
        "(training_images, training_labels), (test_images, test_labels) = mnist.load_data()"
      ],
      "execution_count": 2,
      "outputs": [
        {
          "output_type": "stream",
          "name": "stdout",
          "text": [
            "Downloading data from https://storage.googleapis.com/tensorflow/tf-keras-datasets/train-labels-idx1-ubyte.gz\n",
            "32768/29515 [=================================] - 0s 0us/step\n",
            "40960/29515 [=========================================] - 0s 0us/step\n",
            "Downloading data from https://storage.googleapis.com/tensorflow/tf-keras-datasets/train-images-idx3-ubyte.gz\n",
            "26427392/26421880 [==============================] - 0s 0us/step\n",
            "26435584/26421880 [==============================] - 0s 0us/step\n",
            "Downloading data from https://storage.googleapis.com/tensorflow/tf-keras-datasets/t10k-labels-idx1-ubyte.gz\n",
            "16384/5148 [===============================================================================================] - 0s 0us/step\n",
            "Downloading data from https://storage.googleapis.com/tensorflow/tf-keras-datasets/t10k-images-idx3-ubyte.gz\n",
            "4423680/4422102 [==============================] - 0s 0us/step\n",
            "4431872/4422102 [==============================] - 0s 0us/step\n"
          ]
        }
      ]
    },
    {
      "cell_type": "code",
      "metadata": {
        "id": "CfZ6CE9x8g3_",
        "colab": {
          "base_uri": "https://localhost:8080/",
          "height": 1000
        },
        "outputId": "462029e4-de9d-40ac-a712-6457cd81e968"
      },
      "source": [
        "# Explore the data\n",
        "plt.imshow(training_images[22])\n",
        "print(training_labels[22])\n",
        "print(training_images[22])"
      ],
      "execution_count": 3,
      "outputs": [
        {
          "output_type": "stream",
          "name": "stdout",
          "text": [
            "4\n",
            "[[  0   0   0   0   0   0   0   1   1   1   0   0  27 103 120 125  59   0\n",
            "    0   1   0   1   0   0   0   0   0   0]\n",
            " [  0   0   0   0   0   0   0   1   1   0   0  75 178 160 139 140 166  98\n",
            "    0   0   0   1   1   0   0   0   0   0]\n",
            " [  0   0   0   0   0   0   0   0   2   0  81 175 183 157 150 131 131 164\n",
            "   47   0   2   0   0   0   0   0   0   0]\n",
            " [  0   0   0   0   0   0   0   1   0   0 156 194 219 149 157 194 167 193\n",
            "  156   6   0   2   0   0   0   0   0   0]\n",
            " [  0   0   0   0   0   0   0   0   0   0 117 152 111 109 101  93  99 116\n",
            "  160  21   0   4   0   0   0   0   0   0]\n",
            " [  0   0   0   0   0   0   0   0   0   0 158 176 116 159 119 126 136 144\n",
            "  147  35   0   6   1   0   0   0   0   0]\n",
            " [  0   0   0   0   0   1   2   0   0  99 130 115 117 133 132 136 201 159\n",
            "  156 115   0   0   2   0   0   0   0   0]\n",
            " [  0   0   0   0   0   0   4   0  66 149 140 126 124 120 135 118 124 106\n",
            "  133 143 145   0   0   1   0   0   0   0]\n",
            " [  0   0   0   0   0   0   1   0 123 133 127 153 109 148 104 116 119  86\n",
            "  139 118 132  18   0   3   0   0   0   0]\n",
            " [  0   0   0   0   0   1   0   0 138 152 152 140  86 139 114 115 139 136\n",
            "  137 132 138  66   0   5   0   0   0   0]\n",
            " [  0   0   0   0   0   3   0  21 148 120 147 108 139 138 139  94 144 120\n",
            "  123 167 143 111   0   4   0   0   0   0]\n",
            " [  0   0   0   0   0   4   0  99 127  81 116 115  97 119 131 112 134 112\n",
            "  125 178 129 135   0   0   0   0   0   0]\n",
            " [  0   0   0   0   0   3   0 120 128 145 143 112 113 143 130 156 140 111\n",
            "  143 163 118 140   7   0   0   0   0   0]\n",
            " [  0   0   0   0   0   0   0 164 114 121 159 137 109 142  83 118 118  82\n",
            "  139 171 115 139  43   0   0   0   0   0]\n",
            " [  0   0   0   0   0   0  17 152 137 181 135 111 143 144  93  95 116 115\n",
            "  151 173 155 153  97   0   0   0   0   0]\n",
            " [  0   0   0   0   0   0  23 166  82 159 141  83  95 118 129 137 156 126\n",
            "  160 172 113 132 121   0   0   0   0   0]\n",
            " [  0   0   0   0   0   0 106 154  88 170 213 214 226 255 133 224 215 208\n",
            "  223 155 126 159 128   0   0   0   0   0]\n",
            " [  0   0   0   0   0   0 116 142 132 145 219 218 216 247 117 219 224 218\n",
            "  224 191 132 114 151   0   0   0   0   0]\n",
            " [  0   0   0   0   0   0 126 148 150 189 216 217 216 243 118 220 225 217\n",
            "  224 211 103 117 163   0   0   0   0   0]\n",
            " [  0   0   0   0   0   0 152  94  89 195 220 217 214 243 119 221 227 219\n",
            "  220 216 122 172 184  11   0   0   0   0]\n",
            " [  0   0   0   0   0  15 164  95 123 214 220 217 214 243 120 222 227 220\n",
            "  216 229 131 105 175  23   0   0   0   0]\n",
            " [  0   0   0   0   0  36 137 133 138 189 229 215 215 242 119 220 225 219\n",
            "  227 253 171 110 181  65   0   0   0   0]\n",
            " [  0   0   0   0   0  55 165 132 101 219 222 218 217 242 122 222 224 235\n",
            "  200 189 157 101 177  66   0   0   0   0]\n",
            " [  0   0   0   0   0  76 149 155 140 210 221 219 218 244 122 222 220 236\n",
            "  104  28 215 128 177  70   0   0   0   0]\n",
            " [  0   0   0   0   0  61 120 128 144 222 221 218 216 221 148 207 219 217\n",
            "  217 236 189  91 196  85   0   0   0   0]\n",
            " [  0   0   0   0   0  70 133 151 166 193 223 234 236 243 165 226 243 238\n",
            "  233 197 175 131 120  74   0   0   0   0]\n",
            " [  0   0   0   0   0  63 185 167 139   0   0  47  73  92  49  89  91  79\n",
            "   36   0   3 177 203  69   0   0   0   0]\n",
            " [  0   0   0   0   0   0 175 162   0   0   0   0   0   0   0   0   0   0\n",
            "    0   0   0 149 159   0   0   0   0   0]]\n"
          ]
        },
        {
          "output_type": "display_data",
          "data": {
            "image/png": "[encoded data removed]",
            "text/plain": [
              "<Figure size 432x288 with 1 Axes>"
            ]
          },
          "metadata": {
            "needs_background": "light"
          }
        }
      ]
    },
    {
      "cell_type": "code",
      "metadata": {
        "id": "A3xHVFga8veA"
      },
      "source": [
        "# Preprocess the data\n",
        "training_images=training_images.reshape(60000, 28, 28, 1)\n",
        "training_images=training_images / 255.0\n",
        "test_images = test_images.reshape(10000, 28, 28, 1)\n",
        "test_images=test_images/255.0"
      ],
      "execution_count": 4,
      "outputs": []
    },
    {
      "cell_type": "code",
      "metadata": {
        "id": "RpPVpbd79Tqh",
        "colab": {
          "base_uri": "https://localhost:8080/"
        },
        "outputId": "81866ba6-cd39-4ed1-8f1d-d96ccca4f6b6"
      },
      "source": [
        "# Build the model\n",
        "model = tf.keras.models.Sequential([tf.keras.layers.Conv2D(32, (3,3), activation='relu', input_shape=(28, 28, 1)),\n",
        "                                    tf.keras.layers.MaxPooling2D(2, 2),\n",
        "                                    tf.keras.layers.Conv2D(64, (3,3), activation='relu'),\n",
        "                                    tf.keras.layers.MaxPooling2D(2,2),\n",
        "                                    tf.keras.layers.Flatten(),\n",
        "                                    tf.keras.layers.Dense(128, activation='relu'),\n",
        "                                    tf.keras.layers.Dense(10, activation='softmax')])\n",
        "\n",
        "# Compile the model \n",
        "model.compile(optimizer='adam',\n",
        "              loss='sparse_categorical_crossentropy',\n",
        "              metrics=['accuracy'])\n",
        "\n",
        "# Fit the model\n",
        "model.fit(training_images, training_labels, epochs=25)"
      ],
      "execution_count": 5,
      "outputs": [
        {
          "output_type": "stream",
          "name": "stdout",
          "text": [
            "Epoch 1/25\n",
            "1875/1875 [==============================] - 40s 5ms/step - loss: 0.4552 - accuracy: 0.8351\n",
            "Epoch 2/25\n",
            "1875/1875 [==============================] - 9s 5ms/step - loss: 0.3090 - accuracy: 0.8860\n",
            "Epoch 3/25\n",
            "1875/1875 [==============================] - 9s 5ms/step - loss: 0.2609 - accuracy: 0.9039\n",
            "Epoch 4/25\n",
            "1875/1875 [==============================] - 9s 5ms/step - loss: 0.2283 - accuracy: 0.9167\n",
            "Epoch 5/25\n",
            "1875/1875 [==============================] - 9s 5ms/step - loss: 0.2026 - accuracy: 0.9249\n",
            "Epoch 6/25\n",
            "1875/1875 [==============================] - 9s 5ms/step - loss: 0.1797 - accuracy: 0.9333\n",
            "Epoch 7/25\n",
            "1875/1875 [==============================] - 9s 5ms/step - loss: 0.1608 - accuracy: 0.9399\n",
            "Epoch 8/25\n",
            "1875/1875 [==============================] - 9s 5ms/step - loss: 0.1412 - accuracy: 0.9461\n",
            "Epoch 9/25\n",
            "1875/1875 [==============================] - 9s 5ms/step - loss: 0.1255 - accuracy: 0.9535\n",
            "Epoch 10/25\n",
            "1875/1875 [==============================] - 9s 5ms/step - loss: 0.1119 - accuracy: 0.9570\n",
            "Epoch 11/25\n",
            "1875/1875 [==============================] - 9s 5ms/step - loss: 0.1000 - accuracy: 0.9618\n",
            "Epoch 12/25\n",
            "1875/1875 [==============================] - 9s 5ms/step - loss: 0.0895 - accuracy: 0.9664\n",
            "Epoch 13/25\n",
            "1875/1875 [==============================] - 9s 5ms/step - loss: 0.0792 - accuracy: 0.9699\n",
            "Epoch 14/25\n",
            "1875/1875 [==============================] - 9s 5ms/step - loss: 0.0721 - accuracy: 0.9723\n",
            "Epoch 15/25\n",
            "1875/1875 [==============================] - 9s 5ms/step - loss: 0.0655 - accuracy: 0.9758\n",
            "Epoch 16/25\n",
            "1875/1875 [==============================] - 9s 5ms/step - loss: 0.0575 - accuracy: 0.9774\n",
            "Epoch 17/25\n",
            "1875/1875 [==============================] - 9s 5ms/step - loss: 0.0531 - accuracy: 0.9806\n",
            "Epoch 18/25\n",
            "1875/1875 [==============================] - 9s 5ms/step - loss: 0.0492 - accuracy: 0.9806\n",
            "Epoch 19/25\n",
            "1875/1875 [==============================] - 9s 5ms/step - loss: 0.0466 - accuracy: 0.9826\n",
            "Epoch 20/25\n",
            "1875/1875 [==============================] - 9s 5ms/step - loss: 0.0441 - accuracy: 0.9835\n",
            "Epoch 21/25\n",
            "1875/1875 [==============================] - 9s 5ms/step - loss: 0.0374 - accuracy: 0.9869\n",
            "Epoch 22/25\n",
            "1875/1875 [==============================] - 9s 5ms/step - loss: 0.0359 - accuracy: 0.9869\n",
            "Epoch 23/25\n",
            "1875/1875 [==============================] - 9s 5ms/step - loss: 0.0372 - accuracy: 0.9869\n",
            "Epoch 24/25\n",
            "1875/1875 [==============================] - 9s 5ms/step - loss: 0.0332 - accuracy: 0.9876\n",
            "Epoch 25/25\n",
            "1875/1875 [==============================] - 9s 5ms/step - loss: 0.0294 - accuracy: 0.9889\n"
          ]
        },
        {
          "output_type": "execute_result",
          "data": {
            "text/plain": [
              "<keras.callbacks.History at 0x7f419057f7d0>"
            ]
          },
          "metadata": {},
          "execution_count": 5
        }
      ]
    },
    {
      "cell_type": "code",
      "metadata": {
        "id": "czCMltoP-ZAn",
        "colab": {
          "base_uri": "https://localhost:8080/"
        },
        "outputId": "288fbe39-b170-4cdb-8fc5-a656a97958ea"
      },
      "source": [
        "# Evaluate the model\n",
        "test_loss, test_acc = model.evaluate(test_images, test_labels)"
      ],
      "execution_count": 6,
      "outputs": [
        {
          "output_type": "stream",
          "name": "stdout",
          "text": [
            "313/313 [==============================] - 1s 4ms/step - loss: 0.5598 - accuracy: 0.9082\n"
          ]
        }
      ]
    },
    {
      "cell_type": "code",
      "metadata": {
        "id": "G2PzNz1v-lYJ",
        "colab": {
          "base_uri": "https://localhost:8080/",
          "height": 268
        },
        "outputId": "eaaac7b6-ddfc-4dd9-e8c5-2f77f31c21cc"
      },
      "source": [
        "# Visualizing the Convolutions and Pooling\n",
        "from tensorflow.keras import models\n",
        "f, axarr = plt.subplots(3,4)\n",
        "FIRST_IMAGE=0\n",
        "SECOND_IMAGE=7\n",
        "THIRD_IMAGE=26\n",
        "CONVOLUTION_NUMBER = 1\n",
        "layer_outputs = [layer.output for layer in model.layers]\n",
        "activation_model = tf.keras.models.Model(inputs = model.input, outputs = layer_outputs)\n",
        "for x in range(0,4):\n",
        "  f1 = activation_model.predict(test_images[FIRST_IMAGE].reshape(1, 28, 28, 1))[x]\n",
        "  axarr[0,x].imshow(f1[0, : , :, CONVOLUTION_NUMBER], cmap='inferno')\n",
        "  axarr[0,x].grid(False)\n",
        "  f2 = activation_model.predict(test_images[SECOND_IMAGE].reshape(1, 28, 28, 1))[x]\n",
        "  axarr[1,x].imshow(f2[0, : , :, CONVOLUTION_NUMBER], cmap='inferno')\n",
        "  axarr[1,x].grid(False)\n",
        "  f3 = activation_model.predict(test_images[THIRD_IMAGE].reshape(1, 28, 28, 1))[x]\n",
        "  axarr[2,x].imshow(f3[0, : , :, CONVOLUTION_NUMBER], cmap='inferno')\n",
        "  axarr[2,x].grid(False)"
      ],
      "execution_count": 7,
      "outputs": [
        {
          "output_type": "display_data",
          "data": {
            "image/png": "[encoded data removed]",
            "text/plain": [
              "<Figure size 432x288 with 12 Axes>"
            ]
          },
          "metadata": {
            "needs_background": "light"
          }
        }
      ]
    },
    {
      "cell_type": "code",
      "metadata": {
        "id": "dJxEK1Zl-q3T",
        "colab": {
          "base_uri": "https://localhost:8080/"
        },
        "outputId": "1b1b8028-3c81-4abf-cb1b-56dc8f729d93"
      },
      "source": [
        "# Early Stopping\n",
        "\n",
        "class myCallback(tf.keras.callbacks.Callback):\n",
        "  def on_epoch_end(self, epoch, logs={}):\n",
        "    if(logs.get('accuracy')>0.99):\n",
        "      print(\"\\nReached 99% accuracy so cancelling training!\")\n",
        "      self.model.stop_training = True\n",
        "\n",
        "mnist = tf.keras.datasets.fashion_mnist\n",
        "\n",
        "(x_train, y_train),(x_test, y_test) = mnist.load_data()\n",
        "x_train = x_train.reshape(60000, 28, 28, 1)\n",
        "x_train = x_train / 255.0\n",
        "x_test = x_test.reshape(10000, 28, 28, 1)\n",
        "x_test = x_test/255.0\n",
        "\n",
        "callbacks = myCallback()\n",
        "\n",
        "model = tf.keras.models.Sequential([tf.keras.layers.Conv2D(32, (3,3), activation='relu', input_shape=(28, 28, 1)),\n",
        "                                    tf.keras.layers.MaxPooling2D(2, 2),\n",
        "                                    tf.keras.layers.Flatten(),\n",
        "                                    tf.keras.layers.Dense(128, activation='relu'),\n",
        "                                    tf.keras.layers.Dense(10, activation='softmax')])\n",
        " \n",
        "model.compile(optimizer='adam',\n",
        "              loss='sparse_categorical_crossentropy',\n",
        "              metrics=['accuracy'])\n",
        "\n",
        "model.fit(training_images, training_labels, epochs=20, callbacks=[callbacks])"
      ],
      "execution_count": 8,
      "outputs": [
        {
          "output_type": "stream",
          "name": "stdout",
          "text": [
            "Epoch 1/20\n",
            "1875/1875 [==============================] - 9s 4ms/step - loss: 0.4043 - accuracy: 0.8568\n",
            "Epoch 2/20\n",
            "1875/1875 [==============================] - 8s 4ms/step - loss: 0.2701 - accuracy: 0.9031\n",
            "Epoch 3/20\n",
            "1875/1875 [==============================] - 8s 4ms/step - loss: 0.2234 - accuracy: 0.9179\n",
            "Epoch 4/20\n",
            "1875/1875 [==============================] - 8s 4ms/step - loss: 0.1910 - accuracy: 0.9293\n",
            "Epoch 5/20\n",
            "1875/1875 [==============================] - 8s 4ms/step - loss: 0.1650 - accuracy: 0.9392\n",
            "Epoch 6/20\n",
            "1875/1875 [==============================] - 8s 4ms/step - loss: 0.1399 - accuracy: 0.9472\n",
            "Epoch 7/20\n",
            "1875/1875 [==============================] - 8s 4ms/step - loss: 0.1188 - accuracy: 0.9552\n",
            "Epoch 8/20\n",
            "1875/1875 [==============================] - 8s 4ms/step - loss: 0.1024 - accuracy: 0.9615\n",
            "Epoch 9/20\n",
            "1875/1875 [==============================] - 8s 4ms/step - loss: 0.0864 - accuracy: 0.9680\n",
            "Epoch 10/20\n",
            "1875/1875 [==============================] - 8s 4ms/step - loss: 0.0768 - accuracy: 0.9721\n",
            "Epoch 11/20\n",
            "1875/1875 [==============================] - 8s 4ms/step - loss: 0.0622 - accuracy: 0.9782\n",
            "Epoch 12/20\n",
            "1875/1875 [==============================] - 8s 4ms/step - loss: 0.0542 - accuracy: 0.9802\n",
            "Epoch 13/20\n",
            "1875/1875 [==============================] - 8s 4ms/step - loss: 0.0470 - accuracy: 0.9835\n",
            "Epoch 14/20\n",
            "1875/1875 [==============================] - 8s 4ms/step - loss: 0.0411 - accuracy: 0.9855\n",
            "Epoch 15/20\n",
            "1875/1875 [==============================] - 8s 4ms/step - loss: 0.0366 - accuracy: 0.9871\n",
            "Epoch 16/20\n",
            "1875/1875 [==============================] - 8s 4ms/step - loss: 0.0348 - accuracy: 0.9879\n",
            "Epoch 17/20\n",
            "1875/1875 [==============================] - 8s 4ms/step - loss: 0.0274 - accuracy: 0.9905\n",
            "\n",
            "Reached 99% accuracy so cancelling training!\n"
          ]
        },
        {
          "output_type": "execute_result",
          "data": {
            "text/plain": [
              "<keras.callbacks.History at 0x7f412663c890>"
            ]
          },
          "metadata": {},
          "execution_count": 8
        }
      ]
    }
  ]
}